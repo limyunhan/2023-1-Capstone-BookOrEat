{
 "cells": [
  {
   "cell_type": "code",
   "execution_count": 3,
   "id": "324cd9eb",
   "metadata": {
    "scrolled": true
   },
   "outputs": [
    {
     "name": "stdout",
     "output_type": "stream",
     "text": [
      "https://m.place.naver.com/restaurant/1032755173/review/visitor#\n",
      "https://m.place.naver.com/restaurant/1601413394/review/visitor#\n",
      "https://m.place.naver.com/restaurant/1100670261/review/visitor#\n",
      "https://m.place.naver.com/restaurant/1465265553/review/visitor#\n",
      "https://m.place.naver.com/restaurant/1239124587/review/visitor#\n",
      "https://m.place.naver.com/restaurant/1843596170/review/visitor#\n",
      "https://m.place.naver.com/restaurant/1577771893/review/visitor#\n",
      "https://m.place.naver.com/restaurant/1100670261/review/visitor#\n",
      "https://m.place.naver.com/restaurant/21652111/review/visitor#\n",
      "https://m.place.naver.com/restaurant/20032898/review/visitor#\n",
      "https://m.place.naver.com/restaurant/1085894467/review/visitor#\n",
      "https://m.place.naver.com/restaurant/1202839973/review/visitor#\n",
      "https://m.place.naver.com/restaurant/1085714700/review/visitor#\n",
      "https://m.place.naver.com/restaurant/1261627842/review/visitor#\n",
      "https://m.place.naver.com/restaurant/1326535181/review/visitor#\n",
      "https://m.place.naver.com/restaurant/37323153/review/visitor#\n",
      "https://m.place.naver.com/restaurant/1968161894/review/visitor#\n",
      "https://m.place.naver.com/restaurant/31050025/review/visitor#\n",
      "https://m.place.naver.com/restaurant/34069525/review/visitor#\n",
      "https://m.place.naver.com/restaurant/1603838827/review/visitor#\n",
      "https://m.place.naver.com/restaurant/38230686/review/visitor#\n",
      "https://m.place.naver.com/restaurant/784980627/review/visitor#\n",
      "https://m.place.naver.com/restaurant/1406805137/review/visitor#\n",
      "https://m.place.naver.com/restaurant/1736516489/review/visitor#\n",
      "https://m.place.naver.com/restaurant/1719657718/review/visitor#\n",
      "https://m.place.naver.com/restaurant/38230686/review/visitor#\n",
      "https://m.place.naver.com/restaurant/19438813/review/visitor#\n",
      "https://m.place.naver.com/restaurant/19224509/review/visitor#\n",
      "https://m.place.naver.com/restaurant/1679773623/review/visitor#\n",
      "https://m.place.naver.com/restaurant/1618529210/review/visitor#\n",
      "https://m.place.naver.com/restaurant/1190906078/review/visitor#\n",
      "https://m.place.naver.com/restaurant/1630931265/review/visitor#\n",
      "https://m.place.naver.com/restaurant/1084653520/review/visitor#\n",
      "https://m.place.naver.com/restaurant/1634026591/review/visitor#\n",
      "https://m.place.naver.com/restaurant/1002642990/review/visitor#\n",
      "https://m.place.naver.com/restaurant/1372400127/review/visitor#\n",
      "https://m.place.naver.com/restaurant/1401751721/review/visitor#\n",
      "https://m.place.naver.com/restaurant/38510134/review/visitor#\n",
      "https://m.place.naver.com/restaurant/1626345586/review/visitor#\n",
      "https://m.place.naver.com/restaurant/13279101/review/visitor#\n"
     ]
    }
   ],
   "source": [
    "import requests\n",
    "import csv\n",
    "\n",
    "# 파일 열기\n",
    "with open('url_completed.csv', newline='', encoding='utf-8') as csvfile:\n",
    "  reader = csv.reader(csvfile, delimiter=',')\n",
    "  headers = next(reader)\n",
    "\n",
    "  # 네이버 맵 URL에 대해 요청 보내기\n",
    "  for row in reader:\n",
    "    naver_map_url = row[headers.index('naver_map_url')]\n",
    "    response = requests.get(naver_map_url)\n",
    "\n",
    "    # 존재하지 않는 음식점인 경우\n",
    "    if 'FYvSc' in response.text:\n",
    "      print(row[headers.index('naver_map_url')])"
   ]
  },
  {
   "cell_type": "code",
   "execution_count": null,
   "id": "0d2214ba",
   "metadata": {},
   "outputs": [],
   "source": []
  }
 ],
 "metadata": {
  "kernelspec": {
   "display_name": "Python 3 (ipykernel)",
   "language": "python",
   "name": "python3"
  },
  "language_info": {
   "codemirror_mode": {
    "name": "ipython",
    "version": 3
   },
   "file_extension": ".py",
   "mimetype": "text/x-python",
   "name": "python",
   "nbconvert_exporter": "python",
   "pygments_lexer": "ipython3",
   "version": "3.10.9"
  }
 },
 "nbformat": 4,
 "nbformat_minor": 5
}
